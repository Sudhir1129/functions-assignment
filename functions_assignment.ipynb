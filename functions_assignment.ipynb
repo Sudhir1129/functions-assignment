{
  "nbformat": 4,
  "nbformat_minor": 0,
  "metadata": {
    "colab": {
      "provenance": []
    },
    "kernelspec": {
      "name": "python3",
      "display_name": "Python 3"
    },
    "language_info": {
      "name": "python"
    }
  },
  "cells": [
    {
      "cell_type": "markdown",
      "source": [
        "#**Functions**"
      ],
      "metadata": {
        "id": "MPWdmlp2TBkD"
      }
    },
    {
      "cell_type": "markdown",
      "source": [
        "#Theory Questions"
      ],
      "metadata": {
        "id": "MpNsVkUNTbwj"
      }
    },
    {
      "cell_type": "code",
      "source": [],
      "metadata": {
        "id": "c1G87DvgTexK"
      },
      "execution_count": null,
      "outputs": []
    },
    {
      "cell_type": "markdown",
      "source": [
        "1. What is the difference between a function and a method in Python?"
      ],
      "metadata": {
        "id": "Jv3qIEQLTmKe"
      }
    },
    {
      "cell_type": "code",
      "source": [],
      "metadata": {
        "id": "VyEip34sT7ai"
      },
      "execution_count": null,
      "outputs": []
    },
    {
      "cell_type": "markdown",
      "source": [
        "- The primary distinctions between functions and methods in Python are:\n",
        "\n",
        "Association:\n",
        "\n",
        "Functions are not associated with any object and can be called independently.\n",
        "Methods are associated with objects and are called on instances of classes.\n",
        "Invocation:\n",
        "\n",
        "Functions are invoked by their name alone: function_name().\n",
        "Methods are invoked on an object using dot notation: object_name.method_name().\n",
        "Data Access:\n",
        "\n",
        "Functions operate on data passed to them explicitly through parameters.\n",
        "Methods can access and modify the object's internal state and data."
      ],
      "metadata": {
        "id": "9QkKxLm8T8VM"
      }
    },
    {
      "cell_type": "code",
      "source": [],
      "metadata": {
        "id": "s0TjT6KQUZ1A"
      },
      "execution_count": null,
      "outputs": []
    },
    {
      "cell_type": "markdown",
      "source": [
        "2. Explain the concept of function arguments and parameters in Python"
      ],
      "metadata": {
        "id": "uJc7QRh5Ufbl"
      }
    },
    {
      "cell_type": "code",
      "source": [],
      "metadata": {
        "id": "jEv4jugHUiAy"
      },
      "execution_count": null,
      "outputs": []
    },
    {
      "cell_type": "markdown",
      "source": [
        "In Python programming, understanding the distinction between parameters and arguments is fundamental for writing clear and effective code.\n",
        "\n",
        "Parameters are variables listed in a function's definition. They act as placeholders for the values that the function will process. For example:\n",
        "\n",
        "def greet(name):\n",
        "    print(f\"Hello, {name}!\")\n",
        "Here, name is a parameter.\n",
        "\n",
        "Arguments are the actual values supplied to the function when it is invoked. Continuing with the previous example:\n",
        "\n",
        "greet(\"Alice\")\n",
        "In this call, \"Alice\" is the argument passed to the greet function.\n",
        "\n",
        "Parameters are variables defined in the function signature.\n",
        "Arguments are the real values passed to the function during its invocation."
      ],
      "metadata": {
        "id": "6cNtWAKKUizF"
      }
    },
    {
      "cell_type": "markdown",
      "source": [
        "3. What are the different ways to define and call a function in Python?"
      ],
      "metadata": {
        "id": "5Bjn_ynzVf6l"
      }
    },
    {
      "cell_type": "markdown",
      "source": [
        "- The different ways are-                                             \n",
        "                                                                      \n",
        "                                                                       \n",
        "- Standard Function:\n",
        "def greet(name):\n",
        "    return f\"Hello, {name}!\"\n",
        "greet(\"Alice\")\n",
        "- Lambda Function:\n",
        "square = lambda x: x**2\n",
        "square(4)\n",
        "- Method in a Class:\n",
        "class Greeter:\n",
        "    def greet(self, name):\n",
        "        return f\"Hello, {name}!\"\n",
        "Greeter().greet(\"Alice\")\n",
        "- Built-in Function Call:\n",
        "Using Python's built-in functions like print(), len(), etc.\n",
        "\n",
        "- Partial Functions (from functools):\n",
        "\n",
        "from functools import partial\n",
        "add_five = partial(lambda x, y: x + y, 5)\n",
        "add_five(10)\n",
        "\n",
        "\n",
        "\n",
        "\n",
        "\n",
        "\n"
      ],
      "metadata": {
        "id": "cHwKUCEYVpjc"
      }
    },
    {
      "cell_type": "code",
      "source": [],
      "metadata": {
        "id": "4rMJr5BUVjao"
      },
      "execution_count": null,
      "outputs": []
    },
    {
      "cell_type": "markdown",
      "source": [
        "4. What is the purpose of the `return` statement in a Python function?"
      ],
      "metadata": {
        "id": "dULdzODJYM7w"
      }
    },
    {
      "cell_type": "markdown",
      "source": [
        "- The return statement in a Python function is used to send a value or result back to the caller of the function. It terminates the function's execution and specifies what value (if any) should be returned."
      ],
      "metadata": {
        "id": "jI2kAGAOYXV5"
      }
    },
    {
      "cell_type": "code",
      "source": [],
      "metadata": {
        "id": "KDrROTwDYdIw"
      },
      "execution_count": null,
      "outputs": []
    },
    {
      "cell_type": "markdown",
      "source": [
        "5. What are iterators in Python and how do they differ from iterables?"
      ],
      "metadata": {
        "id": "Fv-Xxw5_Yt3V"
      }
    },
    {
      "cell_type": "markdown",
      "source": [
        "- Iterators in Python are objects that represent a stream of data and allow traversing through it one element at a time. They are created using the iter() function and implement the __iter__() and __next__() methods.\n",
        "\n",
        "Iterables are objects that can be iterated over, such as lists, tuples, strings, or generators. They can be converted into iterators using the iter() function.\n",
        "\n",
        "Key Differences:\n",
        "Iterable: Can be looped over but does not maintain its state (e.g., list, dict).\n",
        "Iterator: Maintains state and returns the next value in the sequence with next() until exhausted."
      ],
      "metadata": {
        "id": "jSBksjSfYd98"
      }
    },
    {
      "cell_type": "code",
      "source": [],
      "metadata": {
        "id": "-TFJjmDKYnVK"
      },
      "execution_count": null,
      "outputs": []
    },
    {
      "cell_type": "markdown",
      "source": [
        "6. Explain the concept of generators in Python and how they are defined."
      ],
      "metadata": {
        "id": "bDQ8Cov2Y5dK"
      }
    },
    {
      "cell_type": "markdown",
      "source": [
        "- Generators in Python are a special type of iterator that generate values on the fly using the yield keyword. They are used to create sequences of data lazily, meaning they produce items one at a time and only as needed, which is memory-efficient.Example:\n",
        "def count_up_to(n):\n",
        "    count = 1\n",
        "    while count <= n:\n",
        "        yield count\n",
        "        count += 1\n"
      ],
      "metadata": {
        "id": "Eev3NWN3ZH5Z"
      }
    },
    {
      "cell_type": "markdown",
      "source": [
        "7. What are the advantages of using generators over regular functions?\n",
        "\n",
        "- Advantages of Generators over Regular Functions:\n",
        "\n",
        "Memory Efficiency:\n",
        "Generators produce items lazily, one at a time, rather than creating a complete data structure in memory. This is particularly useful for large datasets or infinite sequences.\n",
        "\n",
        "Improved Performance:\n",
        "By generating values on demand, generators reduce computation overhead and can be faster in scenarios where not all results are needed at once.\n",
        "\n",
        "Simplified Code:\n",
        "Generators enable writing cleaner and more concise code for producing sequences compared to manually managing state with regular functions."
      ],
      "metadata": {
        "id": "r7PxZ-1ZZXVK"
      }
    },
    {
      "cell_type": "code",
      "source": [],
      "metadata": {
        "id": "ZqnoUy2vZS_T"
      },
      "execution_count": null,
      "outputs": []
    },
    {
      "cell_type": "markdown",
      "source": [
        "8. What is a lambda function in Python and when is it typically used?"
      ],
      "metadata": {
        "id": "69OoQUOTZneF"
      }
    },
    {
      "cell_type": "markdown",
      "source": [
        "- A lambda function in Python is an anonymous, one-line function defined using the lambda keyword. It can have any number of input arguments but only one expression, which is implicitly returned.Example:\n",
        "\n",
        "square = lambda x: x ** 2\n",
        "print(square(4))  # Output: 16"
      ],
      "metadata": {
        "id": "lPitlKS1Zz_G"
      }
    },
    {
      "cell_type": "code",
      "source": [],
      "metadata": {
        "id": "OnyRfZhOZ8vi"
      },
      "execution_count": null,
      "outputs": []
    },
    {
      "cell_type": "markdown",
      "source": [
        "9. Explain the purpose and usage of the `map()` function in Python"
      ],
      "metadata": {
        "id": "WVBPEQSlZ_eI"
      }
    },
    {
      "cell_type": "markdown",
      "source": [
        "- The map() function in Python applies a given function to each item of an iterable (like a list, tuple, or string) and returns a map object (an iterator) containing the results.\n",
        "\n",
        "Syntax:\n",
        "map(function, iterable, ...)\n",
        "function: The function to apply to each item.\n",
        "iterable: One or more iterables to process."
      ],
      "metadata": {
        "id": "pelSkyuvaBKa"
      }
    },
    {
      "cell_type": "code",
      "source": [],
      "metadata": {
        "id": "Io6szZQwaQs5"
      },
      "execution_count": null,
      "outputs": []
    },
    {
      "cell_type": "markdown",
      "source": [
        "10. What is the difference between `map()`, `reduce()`, and `filter()` functions in Python?"
      ],
      "metadata": {
        "id": "k1CJgWu4aRgq"
      }
    },
    {
      "cell_type": "markdown",
      "source": [
        "- The map(), reduce(), and filter() functions in Python are functional programming tools for processing iterables. Here's how they differ:        1. map()\n",
        "Purpose: Applies a given function to each item of an iterable and returns a map object (an iterator) containing the results.                           2. filter()\n",
        "Purpose: Applies a function to each item of an iterable and filters out the items for which the function returns False.\n",
        "The map(), reduce(), and filter() functions in Python are functional programming tools for processing iterables. Here's how they differ:\n",
        "\n",
        "1. map()\n",
        "Purpose: Applies a given function to each item of an iterable and returns a map object (an iterator) containing the results.\n",
        "Use Case: Transformation of elements.\n",
        "python\n",
        "Copy\n",
        "Edit\n",
        "nums = [1, 2, 3]\n",
        "squared = map(lambda x: x**2, nums)\n",
        "print(list(squared))  # Output: [1, 4, 9]\n",
        "2. filter()\n",
        "Purpose: Applies a function to each item of an iterable and filters out the items for which the function returns False.\n",
        "Use Case: Filtering elements based on a condition.\n",
        "python\n",
        "Copy\n",
        "Edit\n",
        "nums = [1, 2, 3, 4, 5]\n",
        "evens = filter(lambda x: x % 2 == 0, nums)\n",
        "print(list(evens))  # Output: [2, 4]\n",
        "3. reduce() (from functools)\n",
        "Purpose: Applies a function cumulatively to the items of an iterable, reducing the iterable to a single value."
      ],
      "metadata": {
        "id": "mowdF0o7aW-R"
      }
    },
    {
      "cell_type": "code",
      "source": [],
      "metadata": {
        "id": "3xcPRKx2a97y"
      },
      "execution_count": null,
      "outputs": []
    },
    {
      "cell_type": "markdown",
      "source": [
        "11. Using pen & Paper write the internal mechanism for sum operation using  reduce function on this given\n",
        "list:[47,11,42,13]"
      ],
      "metadata": {
        "id": "iAvKW-mccIjk"
      }
    },
    {
      "cell_type": "markdown",
      "source": [
        "- To calculate the sum of the list [47, 11, 42, 13] using the reduce() function, this is what happens step by step:\n",
        "\n",
        "Start with the first two numbers:\n",
        "\n",
        "Take 47 and 11 and add them:\n",
        "47 + 11 = 58\n",
        "Take the result (58) and add the next number (42):\n",
        "\n",
        "58 + 42 = 100\n",
        "Take the result (100) and add the next number (13):\n",
        "\n",
        "100 + 13 = 113\n",
        "So, the final result after all steps is 113"
      ],
      "metadata": {
        "id": "ZQkmES6WbAOB"
      }
    },
    {
      "cell_type": "markdown",
      "source": [
        "#**Practical Questions**"
      ],
      "metadata": {
        "id": "vm5uX2RVcQOK"
      }
    },
    {
      "cell_type": "code",
      "source": [],
      "metadata": {
        "id": "j7a1P1BMcWXh"
      },
      "execution_count": null,
      "outputs": []
    },
    {
      "cell_type": "markdown",
      "source": [
        "1. Write a Python function that takes a list of numbers as input and returns the sum of all even numbers in\n",
        "the list.\n",
        "\n"
      ],
      "metadata": {
        "id": "3CCtrZ9EchI5"
      }
    },
    {
      "cell_type": "code",
      "source": [
        "def sum_of_even_numbers(numbers):\n",
        "  \"\"\"\n",
        "  This function takes a list of numbers and returns the sum of all even numbers in the list.\n",
        "  \"\"\"\n",
        "  sum_even = 0\n",
        "  for number in numbers:\n",
        "    if number % 2 == 0:\n",
        "      sum_even += number\n",
        "  return sum_even"
      ],
      "metadata": {
        "id": "zx9T_345cpWx"
      },
      "execution_count": 1,
      "outputs": []
    },
    {
      "cell_type": "code",
      "source": [],
      "metadata": {
        "id": "N-km_SFxc48Z"
      },
      "execution_count": null,
      "outputs": []
    },
    {
      "cell_type": "markdown",
      "source": [
        "2. Create a Python function that accepts a string and returns the reverse of that string."
      ],
      "metadata": {
        "id": "aVUF7xGAc5pD"
      }
    },
    {
      "cell_type": "code",
      "source": [
        "def reverse_string(input_string):\n",
        "    return input_string[::-1]\n"
      ],
      "metadata": {
        "id": "4Tb6xJuwc8Wo"
      },
      "execution_count": null,
      "outputs": []
    },
    {
      "cell_type": "markdown",
      "source": [
        "3. Implement a Python function that takes a list of integers and returns a new list containing the squares of\n",
        "each number."
      ],
      "metadata": {
        "id": "4oVbWEy7dGAL"
      }
    },
    {
      "cell_type": "code",
      "source": [
        "def square_numbers(numbers):\n",
        "    \"\"\"\n",
        "    Takes a list of integers and returns a new list containing the squares of each number.\n",
        "    \"\"\"\n",
        "    squared_numbers = []\n",
        "    for number in numbers:\n",
        "        squared_numbers.append(number**2)\n",
        "    return squared_numbers"
      ],
      "metadata": {
        "id": "lyFQSILKdKgA"
      },
      "execution_count": 2,
      "outputs": []
    },
    {
      "cell_type": "code",
      "source": [],
      "metadata": {
        "id": "O82Dka64dP_S"
      },
      "execution_count": null,
      "outputs": []
    },
    {
      "cell_type": "markdown",
      "source": [
        "4. Write a Python function that checks if a given number is prime or not from 1 to 200"
      ],
      "metadata": {
        "id": "dpZSd8bvdRJ_"
      }
    },
    {
      "cell_type": "code",
      "source": [
        "def is_prime(n):\n",
        "    \"\"\"Check if a number is prime.\"\"\"\n",
        "    if n <= 1:\n",
        "        return False  # Numbers less than 2 are not prime\n",
        "    for i in range(2, int(n**0.5) + 1):  # Check divisors up to sqrt(n)\n",
        "        if n % i == 0:\n",
        "            return False\n",
        "    return True\n",
        "\n",
        "# Test the function for numbers from 1 to 200\n",
        "for num in range(1, 201):\n",
        "    if is_prime(num):\n",
        "        print(f\"{num} is a prime number.\")\n",
        "    else:\n",
        "        print(f\"{num} is not a prime number.\")\n"
      ],
      "metadata": {
        "colab": {
          "base_uri": "https://localhost:8080/"
        },
        "id": "jXXrERJSdyVQ",
        "outputId": "223642f8-0b98-4392-fa3d-0487a398ab71"
      },
      "execution_count": 3,
      "outputs": [
        {
          "output_type": "stream",
          "name": "stdout",
          "text": [
            "1 is not a prime number.\n",
            "2 is a prime number.\n",
            "3 is a prime number.\n",
            "4 is not a prime number.\n",
            "5 is a prime number.\n",
            "6 is not a prime number.\n",
            "7 is a prime number.\n",
            "8 is not a prime number.\n",
            "9 is not a prime number.\n",
            "10 is not a prime number.\n",
            "11 is a prime number.\n",
            "12 is not a prime number.\n",
            "13 is a prime number.\n",
            "14 is not a prime number.\n",
            "15 is not a prime number.\n",
            "16 is not a prime number.\n",
            "17 is a prime number.\n",
            "18 is not a prime number.\n",
            "19 is a prime number.\n",
            "20 is not a prime number.\n",
            "21 is not a prime number.\n",
            "22 is not a prime number.\n",
            "23 is a prime number.\n",
            "24 is not a prime number.\n",
            "25 is not a prime number.\n",
            "26 is not a prime number.\n",
            "27 is not a prime number.\n",
            "28 is not a prime number.\n",
            "29 is a prime number.\n",
            "30 is not a prime number.\n",
            "31 is a prime number.\n",
            "32 is not a prime number.\n",
            "33 is not a prime number.\n",
            "34 is not a prime number.\n",
            "35 is not a prime number.\n",
            "36 is not a prime number.\n",
            "37 is a prime number.\n",
            "38 is not a prime number.\n",
            "39 is not a prime number.\n",
            "40 is not a prime number.\n",
            "41 is a prime number.\n",
            "42 is not a prime number.\n",
            "43 is a prime number.\n",
            "44 is not a prime number.\n",
            "45 is not a prime number.\n",
            "46 is not a prime number.\n",
            "47 is a prime number.\n",
            "48 is not a prime number.\n",
            "49 is not a prime number.\n",
            "50 is not a prime number.\n",
            "51 is not a prime number.\n",
            "52 is not a prime number.\n",
            "53 is a prime number.\n",
            "54 is not a prime number.\n",
            "55 is not a prime number.\n",
            "56 is not a prime number.\n",
            "57 is not a prime number.\n",
            "58 is not a prime number.\n",
            "59 is a prime number.\n",
            "60 is not a prime number.\n",
            "61 is a prime number.\n",
            "62 is not a prime number.\n",
            "63 is not a prime number.\n",
            "64 is not a prime number.\n",
            "65 is not a prime number.\n",
            "66 is not a prime number.\n",
            "67 is a prime number.\n",
            "68 is not a prime number.\n",
            "69 is not a prime number.\n",
            "70 is not a prime number.\n",
            "71 is a prime number.\n",
            "72 is not a prime number.\n",
            "73 is a prime number.\n",
            "74 is not a prime number.\n",
            "75 is not a prime number.\n",
            "76 is not a prime number.\n",
            "77 is not a prime number.\n",
            "78 is not a prime number.\n",
            "79 is a prime number.\n",
            "80 is not a prime number.\n",
            "81 is not a prime number.\n",
            "82 is not a prime number.\n",
            "83 is a prime number.\n",
            "84 is not a prime number.\n",
            "85 is not a prime number.\n",
            "86 is not a prime number.\n",
            "87 is not a prime number.\n",
            "88 is not a prime number.\n",
            "89 is a prime number.\n",
            "90 is not a prime number.\n",
            "91 is not a prime number.\n",
            "92 is not a prime number.\n",
            "93 is not a prime number.\n",
            "94 is not a prime number.\n",
            "95 is not a prime number.\n",
            "96 is not a prime number.\n",
            "97 is a prime number.\n",
            "98 is not a prime number.\n",
            "99 is not a prime number.\n",
            "100 is not a prime number.\n",
            "101 is a prime number.\n",
            "102 is not a prime number.\n",
            "103 is a prime number.\n",
            "104 is not a prime number.\n",
            "105 is not a prime number.\n",
            "106 is not a prime number.\n",
            "107 is a prime number.\n",
            "108 is not a prime number.\n",
            "109 is a prime number.\n",
            "110 is not a prime number.\n",
            "111 is not a prime number.\n",
            "112 is not a prime number.\n",
            "113 is a prime number.\n",
            "114 is not a prime number.\n",
            "115 is not a prime number.\n",
            "116 is not a prime number.\n",
            "117 is not a prime number.\n",
            "118 is not a prime number.\n",
            "119 is not a prime number.\n",
            "120 is not a prime number.\n",
            "121 is not a prime number.\n",
            "122 is not a prime number.\n",
            "123 is not a prime number.\n",
            "124 is not a prime number.\n",
            "125 is not a prime number.\n",
            "126 is not a prime number.\n",
            "127 is a prime number.\n",
            "128 is not a prime number.\n",
            "129 is not a prime number.\n",
            "130 is not a prime number.\n",
            "131 is a prime number.\n",
            "132 is not a prime number.\n",
            "133 is not a prime number.\n",
            "134 is not a prime number.\n",
            "135 is not a prime number.\n",
            "136 is not a prime number.\n",
            "137 is a prime number.\n",
            "138 is not a prime number.\n",
            "139 is a prime number.\n",
            "140 is not a prime number.\n",
            "141 is not a prime number.\n",
            "142 is not a prime number.\n",
            "143 is not a prime number.\n",
            "144 is not a prime number.\n",
            "145 is not a prime number.\n",
            "146 is not a prime number.\n",
            "147 is not a prime number.\n",
            "148 is not a prime number.\n",
            "149 is a prime number.\n",
            "150 is not a prime number.\n",
            "151 is a prime number.\n",
            "152 is not a prime number.\n",
            "153 is not a prime number.\n",
            "154 is not a prime number.\n",
            "155 is not a prime number.\n",
            "156 is not a prime number.\n",
            "157 is a prime number.\n",
            "158 is not a prime number.\n",
            "159 is not a prime number.\n",
            "160 is not a prime number.\n",
            "161 is not a prime number.\n",
            "162 is not a prime number.\n",
            "163 is a prime number.\n",
            "164 is not a prime number.\n",
            "165 is not a prime number.\n",
            "166 is not a prime number.\n",
            "167 is a prime number.\n",
            "168 is not a prime number.\n",
            "169 is not a prime number.\n",
            "170 is not a prime number.\n",
            "171 is not a prime number.\n",
            "172 is not a prime number.\n",
            "173 is a prime number.\n",
            "174 is not a prime number.\n",
            "175 is not a prime number.\n",
            "176 is not a prime number.\n",
            "177 is not a prime number.\n",
            "178 is not a prime number.\n",
            "179 is a prime number.\n",
            "180 is not a prime number.\n",
            "181 is a prime number.\n",
            "182 is not a prime number.\n",
            "183 is not a prime number.\n",
            "184 is not a prime number.\n",
            "185 is not a prime number.\n",
            "186 is not a prime number.\n",
            "187 is not a prime number.\n",
            "188 is not a prime number.\n",
            "189 is not a prime number.\n",
            "190 is not a prime number.\n",
            "191 is a prime number.\n",
            "192 is not a prime number.\n",
            "193 is a prime number.\n",
            "194 is not a prime number.\n",
            "195 is not a prime number.\n",
            "196 is not a prime number.\n",
            "197 is a prime number.\n",
            "198 is not a prime number.\n",
            "199 is a prime number.\n",
            "200 is not a prime number.\n"
          ]
        }
      ]
    },
    {
      "cell_type": "code",
      "source": [],
      "metadata": {
        "id": "27ViRr9Wdz1z"
      },
      "execution_count": null,
      "outputs": []
    },
    {
      "cell_type": "markdown",
      "source": [
        "5. Create an iterator class in Python that generates the Fibonacci sequence up to a specified number of\n",
        "terms.\n",
        "\n"
      ],
      "metadata": {
        "id": "VYFkAL_7d2Cq"
      }
    },
    {
      "cell_type": "code",
      "source": [
        "class FibonacciIterator:\n",
        "    def __init__(self, terms):\n",
        "        \"\"\"Initialize with the number of terms.\"\"\"\n",
        "        self.terms = terms\n",
        "        self.a, self.b = 0, 1\n",
        "        self.count = 0\n",
        "\n",
        "    def __iter__(self):\n",
        "        \"\"\"Return the iterator object itself.\"\"\"\n",
        "        return self\n",
        "\n",
        "    def __next__(self):\n",
        "        \"\"\"Return the next Fibonacci number.\"\"\"\n",
        "        if self.count >= self.terms:\n",
        "            raise StopIteration\n",
        "        else:\n",
        "            self.count += 1\n",
        "            self.a, self.b = self.b, self.a + self.b\n",
        "            return self.a"
      ],
      "metadata": {
        "id": "MrJe7l56eB0P"
      },
      "execution_count": 4,
      "outputs": []
    },
    {
      "cell_type": "code",
      "source": [],
      "metadata": {
        "id": "Z3ccAQ_aeUdo"
      },
      "execution_count": null,
      "outputs": []
    },
    {
      "cell_type": "markdown",
      "source": [
        "6. Write a generator function in Python that yields the powers of 2 up to a given exponent"
      ],
      "metadata": {
        "id": "FEk_7GG2eejn"
      }
    },
    {
      "cell_type": "code",
      "source": [
        "def powers_of_two(exponent):\n",
        "    \"\"\"Yield powers of 2 from 2^0 up to 2^exponent.\"\"\"\n",
        "    for i in range(exponent + 1):\n",
        "        yield 2 ** i\n",
        "\n",
        "# Example usage:\n",
        "for power in powers_of_two(5):  # Generate powers of 2 up to 2^5\n",
        "    print(power)\n"
      ],
      "metadata": {
        "colab": {
          "base_uri": "https://localhost:8080/"
        },
        "id": "NrPYKuh2ej7u",
        "outputId": "10880c24-6062-4a7b-fab1-19b17581058a"
      },
      "execution_count": 5,
      "outputs": [
        {
          "output_type": "stream",
          "name": "stdout",
          "text": [
            "1\n",
            "2\n",
            "4\n",
            "8\n",
            "16\n",
            "32\n"
          ]
        }
      ]
    },
    {
      "cell_type": "code",
      "source": [],
      "metadata": {
        "id": "B-PKelKzetX1"
      },
      "execution_count": null,
      "outputs": []
    },
    {
      "cell_type": "markdown",
      "source": [
        "7. Implement a generator function that reads a file line by line and yields each line as a string"
      ],
      "metadata": {
        "id": "y6BfczSCew3E"
      }
    },
    {
      "cell_type": "code",
      "source": [
        "def read_file_line_by_line(file_path):\n",
        "    \"\"\"Yield each line from the given file.\"\"\"\n",
        "    with open(file_path, 'r') as file:\n",
        "        for line in file:\n",
        "            yield line.strip()  # strip() removes any leading/trailing whitespace\n",
        "\n",
        "# Example usage:\n",
        "file_path = 'example.txt'  # Replace with the path to your file\n",
        "for line in read_file_line_by_line(file_path):\n",
        "    print(line)\n"
      ],
      "metadata": {
        "colab": {
          "base_uri": "https://localhost:8080/",
          "height": 315
        },
        "id": "W6Oxs5FBe1Bu",
        "outputId": "bcf88e86-6445-471a-f56a-04eab9fa5fe8"
      },
      "execution_count": 6,
      "outputs": [
        {
          "output_type": "error",
          "ename": "FileNotFoundError",
          "evalue": "[Errno 2] No such file or directory: 'example.txt'",
          "traceback": [
            "\u001b[0;31m---------------------------------------------------------------------------\u001b[0m",
            "\u001b[0;31mFileNotFoundError\u001b[0m                         Traceback (most recent call last)",
            "\u001b[0;32m<ipython-input-6-1d5b7d2f9a78>\u001b[0m in \u001b[0;36m<cell line: 0>\u001b[0;34m()\u001b[0m\n\u001b[1;32m      7\u001b[0m \u001b[0;31m# Example usage:\u001b[0m\u001b[0;34m\u001b[0m\u001b[0;34m\u001b[0m\u001b[0m\n\u001b[1;32m      8\u001b[0m \u001b[0mfile_path\u001b[0m \u001b[0;34m=\u001b[0m \u001b[0;34m'example.txt'\u001b[0m  \u001b[0;31m# Replace with the path to your file\u001b[0m\u001b[0;34m\u001b[0m\u001b[0;34m\u001b[0m\u001b[0m\n\u001b[0;32m----> 9\u001b[0;31m \u001b[0;32mfor\u001b[0m \u001b[0mline\u001b[0m \u001b[0;32min\u001b[0m \u001b[0mread_file_line_by_line\u001b[0m\u001b[0;34m(\u001b[0m\u001b[0mfile_path\u001b[0m\u001b[0;34m)\u001b[0m\u001b[0;34m:\u001b[0m\u001b[0;34m\u001b[0m\u001b[0;34m\u001b[0m\u001b[0m\n\u001b[0m\u001b[1;32m     10\u001b[0m     \u001b[0mprint\u001b[0m\u001b[0;34m(\u001b[0m\u001b[0mline\u001b[0m\u001b[0;34m)\u001b[0m\u001b[0;34m\u001b[0m\u001b[0;34m\u001b[0m\u001b[0m\n",
            "\u001b[0;32m<ipython-input-6-1d5b7d2f9a78>\u001b[0m in \u001b[0;36mread_file_line_by_line\u001b[0;34m(file_path)\u001b[0m\n\u001b[1;32m      1\u001b[0m \u001b[0;32mdef\u001b[0m \u001b[0mread_file_line_by_line\u001b[0m\u001b[0;34m(\u001b[0m\u001b[0mfile_path\u001b[0m\u001b[0;34m)\u001b[0m\u001b[0;34m:\u001b[0m\u001b[0;34m\u001b[0m\u001b[0;34m\u001b[0m\u001b[0m\n\u001b[1;32m      2\u001b[0m     \u001b[0;34m\"\"\"Yield each line from the given file.\"\"\"\u001b[0m\u001b[0;34m\u001b[0m\u001b[0;34m\u001b[0m\u001b[0m\n\u001b[0;32m----> 3\u001b[0;31m     \u001b[0;32mwith\u001b[0m \u001b[0mopen\u001b[0m\u001b[0;34m(\u001b[0m\u001b[0mfile_path\u001b[0m\u001b[0;34m,\u001b[0m \u001b[0;34m'r'\u001b[0m\u001b[0;34m)\u001b[0m \u001b[0;32mas\u001b[0m \u001b[0mfile\u001b[0m\u001b[0;34m:\u001b[0m\u001b[0;34m\u001b[0m\u001b[0;34m\u001b[0m\u001b[0m\n\u001b[0m\u001b[1;32m      4\u001b[0m         \u001b[0;32mfor\u001b[0m \u001b[0mline\u001b[0m \u001b[0;32min\u001b[0m \u001b[0mfile\u001b[0m\u001b[0;34m:\u001b[0m\u001b[0;34m\u001b[0m\u001b[0;34m\u001b[0m\u001b[0m\n\u001b[1;32m      5\u001b[0m             \u001b[0;32myield\u001b[0m \u001b[0mline\u001b[0m\u001b[0;34m.\u001b[0m\u001b[0mstrip\u001b[0m\u001b[0;34m(\u001b[0m\u001b[0;34m)\u001b[0m  \u001b[0;31m# strip() removes any leading/trailing whitespace\u001b[0m\u001b[0;34m\u001b[0m\u001b[0;34m\u001b[0m\u001b[0m\n",
            "\u001b[0;31mFileNotFoundError\u001b[0m: [Errno 2] No such file or directory: 'example.txt'"
          ]
        }
      ]
    },
    {
      "cell_type": "code",
      "source": [],
      "metadata": {
        "id": "vOIe-NEJe8-e"
      },
      "execution_count": null,
      "outputs": []
    },
    {
      "cell_type": "markdown",
      "source": [
        "8. Use a lambda function in Python to sort a list of tuples based on the second element of each tuple"
      ],
      "metadata": {
        "id": "ZlOLItRufMqt"
      }
    },
    {
      "cell_type": "code",
      "source": [
        "# List of tuples\n",
        "tuples_list = [(1, 3), (2, 1), (4, 2), (5, 0)]\n",
        "\n",
        "# Sorting the list based on the second element of each tuple\n",
        "sorted_list = sorted(tuples_list, key=lambda x: x[1])\n",
        "\n",
        "# Output the sorted list\n",
        "print(sorted_list)\n"
      ],
      "metadata": {
        "colab": {
          "base_uri": "https://localhost:8080/"
        },
        "id": "ByxgZPGjfNgu",
        "outputId": "938126fd-8196-4bd5-e9c7-b15956f71e7c"
      },
      "execution_count": 7,
      "outputs": [
        {
          "output_type": "stream",
          "name": "stdout",
          "text": [
            "[(5, 0), (2, 1), (4, 2), (1, 3)]\n"
          ]
        }
      ]
    },
    {
      "cell_type": "code",
      "source": [],
      "metadata": {
        "id": "MVAoZPkQfTlX"
      },
      "execution_count": null,
      "outputs": []
    },
    {
      "cell_type": "markdown",
      "source": [
        "9. Write a Python program that uses `map()` to convert a list of temperatures from Celsius to Fahrenheit."
      ],
      "metadata": {
        "id": "JHrF3HtFfYw2"
      }
    },
    {
      "cell_type": "code",
      "source": [
        "# List of temperatures in Celsius\n",
        "celsius_temps = [0, 20, 30, 40, 100]\n",
        "\n",
        "# Conversion function from Celsius to Fahrenheit\n",
        "def celsius_to_fahrenheit(celsius):\n",
        "    return (celsius * 9/5) + 32\n",
        "\n",
        "# Using map() to apply the conversion function to each element in the list\n",
        "fahrenheit_temps = map(celsius_to_fahrenheit, celsius_temps)\n",
        "\n",
        "# Convert the map object to a list and print the result\n",
        "fahrenheit_temps_list = list(fahrenheit_temps)\n",
        "print(fahrenheit_temps_list)\n"
      ],
      "metadata": {
        "colab": {
          "base_uri": "https://localhost:8080/"
        },
        "id": "vsy3z5Q3fZnt",
        "outputId": "dae31bf7-adfc-4c82-c4f1-d2ef8154c72c"
      },
      "execution_count": 8,
      "outputs": [
        {
          "output_type": "stream",
          "name": "stdout",
          "text": [
            "[32.0, 68.0, 86.0, 104.0, 212.0]\n"
          ]
        }
      ]
    },
    {
      "cell_type": "code",
      "source": [],
      "metadata": {
        "id": "jb06IjJifdBZ"
      },
      "execution_count": null,
      "outputs": []
    },
    {
      "cell_type": "markdown",
      "source": [
        "10. Create a Python program that uses `filter()` to remove all the vowels from a given string.\n"
      ],
      "metadata": {
        "id": "XXZI4tGVfkH5"
      }
    },
    {
      "cell_type": "code",
      "source": [
        "# Function to check if a character is not a vowel\n",
        "def is_not_vowel(char):\n",
        "    vowels = 'aeiouAEIOU'\n",
        "    return char not in vowels\n",
        "\n",
        "# Input string\n",
        "input_string = \"Hello, World!\"\n",
        "\n",
        "# Using filter() to remove vowels from the string\n",
        "filtered_string = ''.join(filter(is_not_vowel, input_string))\n",
        "\n",
        "# Output the result\n",
        "print(filtered_string)\n"
      ],
      "metadata": {
        "colab": {
          "base_uri": "https://localhost:8080/"
        },
        "id": "7MtaPb4GflLt",
        "outputId": "2dd432e7-0588-488b-dc4a-4233e2d01224"
      },
      "execution_count": 9,
      "outputs": [
        {
          "output_type": "stream",
          "name": "stdout",
          "text": [
            "Hll, Wrld!\n"
          ]
        }
      ]
    },
    {
      "cell_type": "code",
      "source": [],
      "metadata": {
        "id": "Cz5SymFofqs5"
      },
      "execution_count": null,
      "outputs": []
    },
    {
      "cell_type": "markdown",
      "source": [
        "11) Imagine an accounting routine used in a book shop. It works on a list with sublists, which look like this:\n",
        "**order   no  book title and author   quantity   price per item**\n",
        "**34587   Learning python, Marklutz        4           40.95**\n",
        "**98762   Programming python,Marklutz      5           56.80**\n",
        "**77226   Head First python ,Paul Bery     3          32.95**\n",
        "**88112   Eiunfrung in python3,Bern klien  3       24.99**\n",
        "\n",
        "Write a Python program, which returns a list with 2-tuples. Each tuple consists of the order number and the\n",
        "product of the price per item and the quantity. The product should be increased by 10,- € if the value of the\n",
        "order is smaller than 100,00 €.\n",
        "\n",
        "Write a Python program using lambda and map"
      ],
      "metadata": {
        "id": "j3db3YmifyD2"
      }
    },
    {
      "cell_type": "code",
      "source": [
        "# List of orders in the format [order_number, book_title_author, quantity, price_per_item]\n",
        "orders = [\n",
        "    [34587, \"Learning Python, Mark Lutz\", 4, 40.95],\n",
        "    [98762, \"Programming Python, Mark Lutz\", 5, 56.80],\n",
        "    [77226, \"Head First Python, Paul Bery\", 3, 32.95],\n",
        "    [88112, \"Einführung in Python3, Bern Klien\", 3, 24.99]\n",
        "]\n",
        "\n",
        "# Lambda function to calculate the total price for each order and apply the €10 increase if the total is below 100\n",
        "calculate_total = lambda order: (order[0], (order[3] * order[2]) + 10 if order[3] * order[2] < 100 else order[3] * order[2])\n",
        "\n",
        "# Using map() to apply the lambda function to each order in the list\n",
        "order_totals = list(map(calculate_total, orders))\n",
        "\n",
        "# Output the result\n",
        "print(order_totals)\n"
      ],
      "metadata": {
        "colab": {
          "base_uri": "https://localhost:8080/"
        },
        "id": "6QMSy8K0iCBf",
        "outputId": "11510f25-514a-458d-87c5-7a64f18f23d2"
      },
      "execution_count": 10,
      "outputs": [
        {
          "output_type": "stream",
          "name": "stdout",
          "text": [
            "[(34587, 163.8), (98762, 284.0), (77226, 108.85000000000001), (88112, 84.97)]\n"
          ]
        }
      ]
    },
    {
      "cell_type": "code",
      "source": [],
      "metadata": {
        "id": "9ORHFsWki0nQ"
      },
      "execution_count": null,
      "outputs": []
    }
  ]
}